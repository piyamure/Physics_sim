{
 "cells": [
  {
   "cell_type": "code",
   "execution_count": 1,
   "metadata": {},
   "outputs": [],
   "source": [
    "import numpy as np\n",
    "import matplotlib.pyplot as plt \n",
    "from itertools import combinations\n",
    "import matplotlib\n",
    "from matplotlib import animation\n",
    "from matplotlib.animation import PillowWriter"
   ]
  },
  {
   "cell_type": "code",
   "execution_count": 2,
   "metadata": {},
   "outputs": [],
   "source": [
    "n_particles = 100                       # number of particles \n",
    "r = np.random.random((2,n_particles))   # postion of particle(x,y)\n",
    "ixr = r[0]>0.5                          # particles to right to 0.5 \n",
    "ixl = r[0]<=0.5                         # left side "
   ]
  },
  {
   "cell_type": "code",
   "execution_count": 3,
   "metadata": {},
   "outputs": [],
   "source": [
    "ids = np.arange(n_particles)            # id of prticle"
   ]
  },
  {
   "cell_type": "code",
   "execution_count": 4,
   "metadata": {},
   "outputs": [
    {
     "data": {
      "text/plain": [
       "<matplotlib.collections.PathCollection at 0x19ff21e75b0>"
      ]
     },
     "execution_count": 4,
     "metadata": {},
     "output_type": "execute_result"
    },
    {
     "data": {
      "image/png": "[encoded data removed]",
      "text/plain": [
       "<Figure size 288x288 with 1 Axes>"
      ]
     },
     "metadata": {
      "needs_background": "light"
     },
     "output_type": "display_data"
    }
   ],
   "source": [
    "# plot the initial position of particles  \n",
    "plt.figure(figsize=(4,4))\n",
    "plt.scatter(r[0][ixr],r[1][ixr],c='r',s=6)\n",
    "plt.scatter(r[0][ixl],r[1][ixl],c='b',s=6)"
   ]
  },
  {
   "cell_type": "code",
   "execution_count": 5,
   "metadata": {},
   "outputs": [],
   "source": [
    "# intitial velocity of particles \n",
    "v=np.zeros((2,n_particles))\n",
    "v[0][ixr]=-200\n",
    "v[0][ixl]= 200"
   ]
  },
  {
   "cell_type": "code",
   "execution_count": 6,
   "metadata": {},
   "outputs": [],
   "source": [
    "ids_pairs = np.asarray(list(combinations(ids,2))) # id pairs "
   ]
  },
  {
   "cell_type": "code",
   "execution_count": 7,
   "metadata": {},
   "outputs": [],
   "source": [
    "x_pairs =  np.asarray(list(combinations(r[0],2))) # x_pairs\n",
    "y_pairs =  np.asarray(list(combinations(r[1],2))) # y_pairs \n",
    "dx_pairs = np.diff(x_pairs,axis=1).ravel()        # x seperation between pairs \n",
    "dy_pairs = np.diff(y_pairs,axis=1).ravel()        # y sep. between pairs \n",
    "d_pairs  = np.sqrt(dx_pairs**2 + dy_pairs**2)     # sep. between pairs "
   ]
  },
  {
   "cell_type": "code",
   "execution_count": 8,
   "metadata": {},
   "outputs": [],
   "source": [
    "radius = 0.025                                    # radius of particle \n",
    "ids_pairs_collide = ids_pairs[d_pairs<2*radius]   # particle ids collide "
   ]
  },
  {
   "cell_type": "code",
   "execution_count": 9,
   "metadata": {},
   "outputs": [],
   "source": [
    "# velocity and the postion of particle before the collision \n",
    "v1 = v[:,ids_pairs_collide[:,0]]\n",
    "v2 = v[:,ids_pairs_collide[:,1]]\n",
    "r1 = r[:,ids_pairs_collide[:,0]]\n",
    "r2 = r[:,ids_pairs_collide[:,1]]"
   ]
  },
  {
   "cell_type": "code",
   "execution_count": 10,
   "metadata": {},
   "outputs": [],
   "source": [
    "# velocity after the collison \n",
    "v1_new = v1-(np.diag((v1-v2).T@(r1-r2))/np.sum((r1-r2)**2,axis=0))*(r1-r2)\n",
    "v2_new = v2-(np.diag((v2-v1).T@(r2-r1))/np.sum((r2-r1)**2,axis=0))*(r2-r1)"
   ]
  },
  {
   "cell_type": "code",
   "execution_count": 11,
   "metadata": {},
   "outputs": [],
   "source": [
    "# define fucntions to run the simulations easier \n",
    "def get_delta_pairs(x):\n",
    "    return np.diff(np.asarray(list(combinations(x,2))), axis=1).ravel()\n",
    "def get_deltad_pairs(r):\n",
    "    return np.sqrt(get_delta_pairs(r[0])**2 + get_delta_pairs(r[1])**2)\n",
    "def compute_new_v(v1, v2, r1, r2):\n",
    "    v1new = v1 - np.diag((v1-v2).T@(r1-r2))/np.sum((r1-r2)**2, axis=0) * (r1-r2)\n",
    "    v2new = v2 - np.diag((v2-v1).T@(r2-r1))/np.sum((r2-r1)**2, axis=0) * (r2-r1)\n",
    "    return v1new, v2new"
   ]
  },
  {
   "cell_type": "code",
   "execution_count": 12,
   "metadata": {},
   "outputs": [],
   "source": [
    "# upadte the postion and velocity of paricles \n",
    "def motion(r,v,id_pairs,ts,dt,d_cutoff):\n",
    "    rs = np.zeros((ts,r.shape[0],r.shape[1]))\n",
    "    vs = np.zeros((ts,v.shape[0],v.shape[1]))\n",
    "    # initial states \n",
    "    rs[0]=r.copy()\n",
    "    vs[0]=v.copy()\n",
    "    for i in range(1,ts):\n",
    "        ic=id_pairs[get_deltad_pairs(r)<d_cutoff]\n",
    "        v[:,ic[:,0]],v[:,ic[:,1]]=compute_new_v(v[:,ic[:,0]], v[:,ic[:,1]], \n",
    "                                                r[:,ic[:,0]], r[:,ic[:,1]])\n",
    "        v[0,r[0]>1]= -np.abs(v[0,r[0]>1])\n",
    "        v[0,r[0]<0]= -np.abs(v[0,r[0]<0])\n",
    "        v[1,r[1]>1]= -np.abs(v[1,r[1]>1])\n",
    "        v[1,r[1]<0]= np.abs(v[1,r[1]<0])\n",
    "        r +=v*dt\n",
    "        rs[i]=r.copy()\n",
    "        vs[i]=v.copy()\n",
    "    return rs,vs"
   ]
  },
  {
   "cell_type": "code",
   "execution_count": 13,
   "metadata": {},
   "outputs": [],
   "source": [
    "radius = 0.06\n",
    "rs, vs = motion(r, v, ids_pairs, ts=1000, dt=0.000008, d_cutoff=2*radius)"
   ]
  },
  {
   "cell_type": "code",
   "execution_count": 14,
   "metadata": {},
   "outputs": [
    {
     "data": {
      "image/png": "[encoded data removed]",
      "text/plain": [
       "<Figure size 360x360 with 1 Axes>"
      ]
     },
     "metadata": {
      "needs_background": "light"
     },
     "output_type": "display_data"
    }
   ],
   "source": [
    "fig, ax = plt.subplots(1,1,figsize=(5,5))\n",
    "\n",
    "def animate(i):\n",
    "    ax.clear()\n",
    "    xred, yred   = rs[i][0][ixr],rs[i][1][ixr]\n",
    "    xblue, yblue = rs[i][0][ixl],rs[i][1][ixl]\n",
    "    circles_red  = [plt.Circle((xi, yi), radius=radius, linewidth=0) for xi,yi in zip(xred,yred)]\n",
    "    circles_blue = [plt.Circle((xi, yi), radius=radius, linewidth=0) for xi,yi in zip(xblue,yblue)]\n",
    "    cred  = matplotlib.collections.PatchCollection(circles_red, facecolors='red')\n",
    "    cblue = matplotlib.collections.PatchCollection(circles_blue, facecolors='blue')\n",
    "    ax.add_collection(cred)\n",
    "    ax.add_collection(cblue)\n",
    "    ax.set_xlim(0,1)\n",
    "    ax.set_ylim(0,1)\n",
    "    \n",
    "ani = animation.FuncAnimation(fig, animate, frames=500, interval=50)\n",
    "ani.save('ani3.gif',writer='pillow',fps=30,dpi=100)"
   ]
  },
  {
   "cell_type": "code",
   "execution_count": 15,
   "metadata": {},
   "outputs": [],
   "source": [
    "# simmulate 400 particles \n",
    "n_particles = 400\n",
    "radius = 0.0015\n",
    "ids = np.arange(n_particles)\n",
    "r = np.random.random((2,n_particles))\n",
    "ids_pairs = np.asarray(list(combinations(ids,2)))\n",
    "v = np.zeros((2,n_particles))\n",
    "\n",
    "ixr = r[0]>0.5 \n",
    "ixl = r[0]<=0.5 \n",
    "\n",
    "v[0][ixr] = -500\n",
    "v[0][ixl] =  500\n",
    "\n",
    "rs, vs = motion(r, v, ids_pairs, ts=1000, dt=0.000008, d_cutoff=2*radius)"
   ]
  },
  {
   "cell_type": "code",
   "execution_count": 16,
   "metadata": {},
   "outputs": [
    {
     "data": {
      "image/png": "[encoded data removed]",
      "text/plain": [
       "<Figure size 360x360 with 1 Axes>"
      ]
     },
     "metadata": {
      "needs_background": "light"
     },
     "output_type": "display_data"
    }
   ],
   "source": [
    "fig, ax = plt.subplots(1,1,figsize=(5,5))\n",
    "ani = animation.FuncAnimation(fig, animate, frames=500, interval=50)\n",
    "ani.save('ani3.gif',writer='pillow',fps=30,dpi=100)"
   ]
  },
  {
   "cell_type": "code",
   "execution_count": null,
   "metadata": {},
   "outputs": [],
   "source": []
  }
 ],
 "metadata": {
  "kernelspec": {
   "display_name": "Python 3 (ipykernel)",
   "language": "python",
   "name": "python3"
  },
  "language_info": {
   "codemirror_mode": {
    "name": "ipython",
    "version": 3
   },
   "file_extension": ".py",
   "mimetype": "text/x-python",
   "name": "python",
   "nbconvert_exporter": "python",
   "pygments_lexer": "ipython3",
   "version": "3.9.7"
  }
 },
 "nbformat": 4,
 "nbformat_minor": 4
}
