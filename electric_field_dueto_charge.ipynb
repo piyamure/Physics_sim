{
 "cells": [
  {
   "cell_type": "code",
   "execution_count": 2,
   "metadata": {},
   "outputs": [],
   "source": [
    "import matplotlib.pyplot as plt \n",
    "import sympy as smp \n",
    "import numpy as np\n",
    "import scipy as sp\n",
    "from scipy.integrate import quad"
   ]
  },
  {
   "cell_type": "markdown",
   "metadata": {},
   "source": [
    "Electric field due to charge density $\\rho(\\vec{r})$ over volume V is given by:\n",
    "\n",
    "$$\\vec{E} = \\frac{1}{4 \\pi \\epsilon_0} \\int_{V} \\frac{\\rho(\\vec{r}')}{|\\vec{r}-\\vec{r}'|^3}(\\vec{r}-\\vec{r}') dV'$$\n",
    "\n",
    "means that\n",
    "\n",
    "$$\\frac{4 \\pi \\epsilon_0 R^2}{Q}\\vec{E} = \\int_{V} \\frac{\\rho_d(\\vec{r_d}')}{|\\vec{r_d}-\\vec{r_d}'|^3}(\\vec{r_d}-\\vec{r_d}') dV_d' $$\n",
    "\n",
    "where all the variables with $_d$ are dimensionless, and $Q$ and $R$ are the characteristic lengths and charges of the problem.\n",
    "\n",
    "**In all problems below, the $_d$ is ommited and all quantities are assumed dimensionless**. We can thus set $R=Q=1$ in all problems (without loss of generality).\n",
    "\n"
   ]
  },
  {
   "cell_type": "markdown",
   "metadata": {},
   "source": [
    "### Example 01"
   ]
  },
  {
   "cell_type": "markdown",
   "metadata": {},
   "source": [
    "Spring of charge with radius $R=1$ is located at $\\vec{r}'(t) = \\left<\\cos(4t), \\sin(4t), t\\right>$ for $0 \\leq t \\leq 2\\pi$ with total charge $Q=1$ and charge evenly spread across. Plot electric field and charge\n",
    "\n",
    "**Step 1:** Find $dq$\n",
    "\n",
    "Since we are in 1 dimension\n",
    "\n",
    "$$dq =  \\lambda(\\vec{r}')\\left|\\frac{d\\vec{r}'}{dt}\\right|dt$$\n",
    "\n",
    "but we still need $\\lambda(\\vec{r}')$. Using the fact that $Q = 1 =  \\int dq = \\lambda \\int |d\\vec{r}'/dt| dt$ we get\n",
    "\n",
    "$$\\lambda = \\left[ \\int |d\\vec{r}'/dt| dt \\right]^{-1}$$"
   ]
  },
  {
   "cell_type": "code",
   "execution_count": 3,
   "metadata": {},
   "outputs": [],
   "source": [
    "# define varibales and paramters \n",
    "t = smp.symbols('t',positive=True)\n",
    "x,y,z = smp.symbols('x, y, z')"
   ]
  },
  {
   "cell_type": "code",
   "execution_count": 4,
   "metadata": {},
   "outputs": [],
   "source": [
    "# define other variables involved \n",
    "r = smp.Matrix([x,y,z])\n",
    "r_p = smp.Matrix([smp.cos(4*t),smp.sin(4*t),t])\n",
    "sep = r -r_p"
   ]
  },
  {
   "cell_type": "code",
   "execution_count": 5,
   "metadata": {},
   "outputs": [],
   "source": [
    "# solve for lambda \n",
    "dr_pdt = smp.diff(r_p,t).norm()\n",
    "lam_inv = smp.integrate(dr_pdt,(t,0,2*smp.pi))"
   ]
  },
  {
   "cell_type": "code",
   "execution_count": 6,
   "metadata": {},
   "outputs": [],
   "source": [
    "# get the integrand of E \n",
    "integrand = 1/lam_inv * dr_pdt*sep/(sep.norm())**3\n",
    "integrand.simplify()"
   ]
  },
  {
   "cell_type": "code",
   "execution_count": 7,
   "metadata": {},
   "outputs": [
    {
     "data": {
      "text/latex": [
       "$\\displaystyle \\left[\\begin{matrix}\\frac{x - \\cos{\\left(4 t \\right)}}{2 \\pi \\left(\\left|{t - z}\\right|^{2} + \\left|{x - \\cos{\\left(4 t \\right)}}\\right|^{2} + \\left|{y - \\sin{\\left(4 t \\right)}}\\right|^{2}\\right)^{\\frac{3}{2}}}\\\\\\frac{y - \\sin{\\left(4 t \\right)}}{2 \\pi \\left(\\left|{t - z}\\right|^{2} + \\left|{x - \\cos{\\left(4 t \\right)}}\\right|^{2} + \\left|{y - \\sin{\\left(4 t \\right)}}\\right|^{2}\\right)^{\\frac{3}{2}}}\\\\\\frac{- t + z}{2 \\pi \\left(\\left|{t - z}\\right|^{2} + \\left|{x - \\cos{\\left(4 t \\right)}}\\right|^{2} + \\left|{y - \\sin{\\left(4 t \\right)}}\\right|^{2}\\right)^{\\frac{3}{2}}}\\end{matrix}\\right]$"
      ],
      "text/plain": [
       "Matrix([\n",
       "[(x - cos(4*t))/(2*pi*(Abs(t - z)**2 + Abs(x - cos(4*t))**2 + Abs(y - sin(4*t))**2)**(3/2))],\n",
       "[(y - sin(4*t))/(2*pi*(Abs(t - z)**2 + Abs(x - cos(4*t))**2 + Abs(y - sin(4*t))**2)**(3/2))],\n",
       "[      (-t + z)/(2*pi*(Abs(t - z)**2 + Abs(x - cos(4*t))**2 + Abs(y - sin(4*t))**2)**(3/2))]])"
      ]
     },
     "execution_count": 7,
     "metadata": {},
     "output_type": "execute_result"
    }
   ],
   "source": [
    "integrand"
   ]
  },
  {
   "cell_type": "code",
   "execution_count": 8,
   "metadata": {},
   "outputs": [],
   "source": [
    "# convert sympy symbolic expression to numpy\n",
    "\n",
    "dExdt = smp.lambdify([t,x,y,z],integrand[0])\n",
    "dEydt = smp.lambdify([t,x,y,z],integrand[1])\n",
    "dEzdt = smp.lambdify([t,x,y,z],integrand[2])"
   ]
  },
  {
   "cell_type": "code",
   "execution_count": 9,
   "metadata": {},
   "outputs": [],
   "source": [
    "# get the E field (by integrating)\n",
    "\n",
    "def E(x,y,z):\n",
    "    return np.array([quad(dExdt,0,2*np.pi,args=(x,y,z))[0],\n",
    "                     quad(dExdt,0,2*np.pi,args=(x,y,z))[0],\n",
    "                     quad(dExdt,0,2*np.pi,args=(x,y,z))[0]])"
   ]
  },
  {
   "cell_type": "code",
   "execution_count": 10,
   "metadata": {},
   "outputs": [],
   "source": [
    "# create a mesh to evaluate E field\n",
    "\n",
    "x = np.linspace(-2,2,10)\n",
    "y = np.linspace(-2,2,10)\n",
    "z = np.linspace(0,2*np.pi,10)\n",
    "xv,yv,zv = np.meshgrid(x,y,z)"
   ]
  },
  {
   "cell_type": "code",
   "execution_count": 11,
   "metadata": {},
   "outputs": [],
   "source": [
    "# get the E field on a mesh(defined above)\n",
    "\n",
    "E_field = np.vectorize(E,signature='(),(),()->(n)')(xv,yv,zv)\n",
    "Ex = E_field[:,:,:,0]\n",
    "Ey = E_field[:,:,:,1]\n",
    "Ez = E_field[:,:,:,2]"
   ]
  },
  {
   "cell_type": "code",
   "execution_count": 12,
   "metadata": {},
   "outputs": [
    {
     "data": {
      "text/plain": [
       "<matplotlib.contour.QuadContourSet at 0x7fb24e4b2d40>"
      ]
     },
     "execution_count": 12,
     "metadata": {},
     "output_type": "execute_result"
    },
    {
     "data": {
      "image/png": "[encoded data removed]",
      "text/plain": [
       "<Figure size 400x400 with 1 Axes>"
      ]
     },
     "metadata": {},
     "output_type": "display_data"
    }
   ],
   "source": [
    "Ex_mid_z_plane = Ex[:,:,5]\n",
    "plt.figure(figsize=(4,4))\n",
    "plt.contourf(Ex_mid_z_plane)"
   ]
  },
  {
   "cell_type": "code",
   "execution_count": null,
   "metadata": {},
   "outputs": [],
   "source": []
  }
 ],
 "metadata": {
  "kernelspec": {
   "display_name": "base",
   "language": "python",
   "name": "python3"
  },
  "language_info": {
   "codemirror_mode": {
    "name": "ipython",
    "version": 3
   },
   "file_extension": ".py",
   "mimetype": "text/x-python",
   "name": "python",
   "nbconvert_exporter": "python",
   "pygments_lexer": "ipython3",
   "version": "3.10.9"
  },
  "orig_nbformat": 4
 },
 "nbformat": 4,
 "nbformat_minor": 2
}
