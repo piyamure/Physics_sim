{
 "cells": [
  {
   "cell_type": "code",
   "execution_count": 9,
   "metadata": {},
   "outputs": [],
   "source": [
    "import numpy as np\n",
    "import sympy as smp \n",
    "import matplotlib.pyplot as plt\n",
    "from scipy.integrate import quad, quad_vec\n"
   ]
  },
  {
   "cell_type": "markdown",
   "metadata": {},
   "source": [
    "Consider a current $I$ flowing counterclockwise in a loop in the xy-plane:\n",
    "\n",
    "$$\\vec{l}(t) = R \\left<\\cos t, \\sin t, 0 \\right> $$\n",
    "\n",
    "where, $0 \\leq t \\leq 2\\pi$. The Biot-Savard Law tells us:\n",
    "\n",
    "$$\\vec{B}(\\vec{r}) =  \\frac{\\mu_0 I}{4 \\pi} \\int_C \\frac{d\\vec{l} \\times (\\vec{r}-\\vec{l})}{|\\vec{r}-\\vec{l}|^3} = \\int_0^{2 \\pi} \\frac{d\\vec{l}/dt \\times (\\vec{r} - \\vec{l})}{|\\vec{r}-\\vec{l}|^3} dt$$\n",
    "\n",
    "Putting this in dimensionless form\n",
    "\n",
    "* $\\vec{l} \\to \\vec{l}/R$\n",
    "* $\\vec{r} \\to \\vec{r}/R$\n",
    "\n",
    "we get\n",
    "\n",
    "$$\\frac{4 \\pi R}{\\mu_0 I} \\vec{B}(\\vec{r}) = \\int_0^{2 \\pi} \\frac{d\\vec{l}/dt \\times (\\vec{r} - \\vec{l})}{|\\vec{r}-\\vec{l}|^3} dt$$"
   ]
  },
  {
   "cell_type": "code",
   "execution_count": 2,
   "metadata": {},
   "outputs": [],
   "source": [
    "# get the integrand of the above equation using sympy \n",
    "x,y,z,t = smp.symbols('x,y,z,t')\n",
    "r = smp.Matrix([x,y,z])                   # coordinates(x,y,z) of the place where the filed is measured \n",
    "l = smp.Matrix([smp.cos(t),smp.sin(t),0]) # coordinates(x,y,z) on the current loop \n",
    "sep = r-l                                 # vector pointing from measured point to another point in current loop           \n",
    "integrand = smp.diff(l,t).cross(sep)/sep.norm()**3"
   ]
  },
  {
   "cell_type": "code",
   "execution_count": 3,
   "metadata": {},
   "outputs": [
    {
     "data": {
      "text/latex": [
       "$\\displaystyle \\left[\\begin{matrix}\\frac{z \\cos{\\left(t \\right)}}{\\left(\\left|{z}\\right|^{2} + \\left|{x - \\cos{\\left(t \\right)}}\\right|^{2} + \\left|{y - \\sin{\\left(t \\right)}}\\right|^{2}\\right)^{\\frac{3}{2}}}\\\\\\frac{z \\sin{\\left(t \\right)}}{\\left(\\left|{z}\\right|^{2} + \\left|{x - \\cos{\\left(t \\right)}}\\right|^{2} + \\left|{y - \\sin{\\left(t \\right)}}\\right|^{2}\\right)^{\\frac{3}{2}}}\\\\\\frac{- \\left(x - \\cos{\\left(t \\right)}\\right) \\cos{\\left(t \\right)} - \\left(y - \\sin{\\left(t \\right)}\\right) \\sin{\\left(t \\right)}}{\\left(\\left|{z}\\right|^{2} + \\left|{x - \\cos{\\left(t \\right)}}\\right|^{2} + \\left|{y - \\sin{\\left(t \\right)}}\\right|^{2}\\right)^{\\frac{3}{2}}}\\end{matrix}\\right]$"
      ],
      "text/plain": [
       "Matrix([\n",
       "[                                    z*cos(t)/(Abs(z)**2 + Abs(x - cos(t))**2 + Abs(y - sin(t))**2)**(3/2)],\n",
       "[                                    z*sin(t)/(Abs(z)**2 + Abs(x - cos(t))**2 + Abs(y - sin(t))**2)**(3/2)],\n",
       "[(-(x - cos(t))*cos(t) - (y - sin(t))*sin(t))/(Abs(z)**2 + Abs(x - cos(t))**2 + Abs(y - sin(t))**2)**(3/2)]])"
      ]
     },
     "execution_count": 3,
     "metadata": {},
     "output_type": "execute_result"
    }
   ],
   "source": [
    "integrand"
   ]
  },
  {
   "cell_type": "code",
   "execution_count": 4,
   "metadata": {},
   "outputs": [],
   "source": [
    "# get the x,y,z components of integrand \n",
    "dBxdt = smp.lambdify([t,x,y,z],integrand[0])\n",
    "dBydt = smp.lambdify([t,x,y,z],integrand[1])\n",
    "dBzdt = smp.lambdify([t,x,y,z],integrand[2])"
   ]
  },
  {
   "cell_type": "code",
   "execution_count": 10,
   "metadata": {},
   "outputs": [],
   "source": [
    "# this function returns the magnetic field at point(x,y,z)\n",
    "# scipy quadvec fucntion can be used to do integration of vector valued fucntions \n",
    "# (in this example f(x,y,z) and x,y and z all are vectors )\n",
    "def B(x,y,z):\n",
    "    Bx = quad_vec(dBxdt,0,2*np.pi,args=(x,y,z))[0]\n",
    "    By = quad_vec(dBydt,0,2*np.pi,args=(x,y,z))[0]\n",
    "    Bz = quad_vec(dBzdt,0,2*np.pi,args=(x,y,z))[0]\n",
    "    return np.array([Bx,By,Bz])"
   ]
  },
  {
   "cell_type": "code",
   "execution_count": 6,
   "metadata": {},
   "outputs": [
    {
     "data": {
      "text/plain": [
       "array([0.        , 0.        , 6.28318531])"
      ]
     },
     "execution_count": 6,
     "metadata": {},
     "output_type": "execute_result"
    }
   ],
   "source": [
    "# find B at (0,0,0)\n",
    "B(0,0,0)"
   ]
  },
  {
   "cell_type": "code",
   "execution_count": 7,
   "metadata": {},
   "outputs": [],
   "source": [
    "# define a meash to evaluate B at regular grid points \n",
    "x = np.linspace(-0.5,0.5,50)\n",
    "xv,yv,zv = np.meshgrid(x,x,x)\n",
    "\n",
    "# evaluate the B at each point in a mesh \n",
    "Bx,By,Bz = B(xv,yv,zv)"
   ]
  },
  {
   "cell_type": "code",
   "execution_count": 27,
   "metadata": {},
   "outputs": [
    {
     "data": {
      "text/plain": [
       "Text(0, 0.5, '$\\\\frac{4\\\\pi R}{\\\\mu_0I}$')"
      ]
     },
     "execution_count": 27,
     "metadata": {},
     "output_type": "execute_result"
    },
    {
     "data": {
      "image/png": "[encoded data removed]",
      "text/plain": [
       "<Figure size 640x480 with 1 Axes>"
      ]
     },
     "metadata": {},
     "output_type": "display_data"
    }
   ],
   "source": [
    "# plot the agnetic field along z axis \n",
    "plt.plot(x,Bz[25,25,:])\n",
    "plt.xlabel(r'$\\frac{1}{R}$')\n",
    "plt.ylabel(r'$\\frac{4\\pi R}{\\mu_0I}$')"
   ]
  },
  {
   "cell_type": "code",
   "execution_count": null,
   "metadata": {},
   "outputs": [],
   "source": []
  }
 ],
 "metadata": {
  "kernelspec": {
   "display_name": "base",
   "language": "python",
   "name": "python3"
  },
  "language_info": {
   "codemirror_mode": {
    "name": "ipython",
    "version": 3
   },
   "file_extension": ".py",
   "mimetype": "text/x-python",
   "name": "python",
   "nbconvert_exporter": "python",
   "pygments_lexer": "ipython3",
   "version": "3.9.13"
  },
  "orig_nbformat": 4
 },
 "nbformat": 4,
 "nbformat_minor": 2
}
