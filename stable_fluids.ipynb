{
 "cells": [
  {
   "cell_type": "code",
   "execution_count": 62,
   "metadata": {},
   "outputs": [],
   "source": [
    "import numpy as np\n",
    "import scipy.sparse.linalg as splinalg\n",
    "from scipy import interpolate\n",
    "import matplotlib.pyplot as plt\n",
    "\n",
    "# Optional\n",
    "import cmasher as cmr\n",
    "from tqdm import tqdm"
   ]
  },
  {
   "cell_type": "markdown",
   "metadata": {},
   "source": [
    "Solution Strategy:\n",
    "\n",
    "* Start with zero velocity everywhere: u = [0, 0]\n",
    "\n",
    "1. Add forces\n",
    "\n",
    "    w₁ = u + Δt f\n",
    "\n",
    "2. Convect by self-advection (set the value at the current\n",
    "   location to be the value at the position backtraced\n",
    "   on the streamline.) -> unconditionally stable\n",
    "\n",
    "    w₂ = w₁(p(x, −Δt))\n",
    "\n",
    "3. Diffuse implicitly (Solve a linear system matrix-free\n",
    "   by Conjugate Gradient) -> unconditionally stable\n",
    "\n",
    "    (I − ν Δt ∇²)w₃ = w₂\n",
    "\n",
    "4. Compute a pressure correction (Solve a linear system\n",
    "    matrix-free by Conjugate gradient)\n",
    "\n",
    "    ∇² p = ∇ ⋅ w₃\n",
    "\n",
    "5. Correct velocities to be incompressible\n",
    "\n",
    "    w₄ = w₃ − ∇p\n",
    "\n",
    "6. Advance to next time step\n",
    "\n",
    "    u = w₄ "
   ]
  },
  {
   "cell_type": "code",
   "execution_count": 63,
   "metadata": {},
   "outputs": [],
   "source": [
    "# constants \n",
    "\n",
    "DOMAIN_SIZE = 1.0\n",
    "N_POINTS = 41\n",
    "N_TIME_STEPS = 100\n",
    "TIME_STEP_LENGTH = 0.1\n",
    "KINEMATIC_VISCOSITY = 0.0001\n",
    "MAX_ITER_CG = None"
   ]
  },
  {
   "cell_type": "code",
   "execution_count": 64,
   "metadata": {},
   "outputs": [],
   "source": [
    "element_length = DOMAIN_SIZE / (N_POINTS - 1)\n",
    "scalar_shape   = (N_POINTS, N_POINTS)\n",
    "scalar_dof     = N_POINTS**2\n",
    "vector_shape   = (N_POINTS, N_POINTS, 2)\n",
    "vector_dof     = N_POINTS**2 * 2\n",
    "\n",
    "x = np.linspace(0.0, DOMAIN_SIZE, N_POINTS)\n",
    "y = np.linspace(0.0, DOMAIN_SIZE, N_POINTS)"
   ]
  },
  {
   "cell_type": "code",
   "execution_count": 65,
   "metadata": {},
   "outputs": [
    {
     "data": {
      "text/plain": [
       "(41, 41, 2)"
      ]
     },
     "execution_count": 65,
     "metadata": {},
     "output_type": "execute_result"
    }
   ],
   "source": [
    "# attach (x,y) coordinates on mesh of (N,N) -> shape of vector field (N,N,2)\n",
    "X, Y = np.meshgrid(x, y, indexing=\"ij\")\n",
    "coordinates = np.concatenate(\n",
    "        (\n",
    "            X[..., np.newaxis],\n",
    "            Y[..., np.newaxis],\n",
    "        ),\n",
    "        axis=-1,          \n",
    "    )\n",
    "\n",
    "coordinates.shape"
   ]
  },
  {
   "cell_type": "code",
   "execution_count": 66,
   "metadata": {},
   "outputs": [
    {
     "data": {
      "text/plain": [
       "array([[0.   , 0.   , 0.   , ..., 0.   , 0.   , 0.   ],\n",
       "       [0.025, 0.025, 0.025, ..., 0.025, 0.025, 0.025],\n",
       "       [0.05 , 0.05 , 0.05 , ..., 0.05 , 0.05 , 0.05 ],\n",
       "       ...,\n",
       "       [0.95 , 0.95 , 0.95 , ..., 0.95 , 0.95 , 0.95 ],\n",
       "       [0.975, 0.975, 0.975, ..., 0.975, 0.975, 0.975],\n",
       "       [1.   , 1.   , 1.   , ..., 1.   , 1.   , 1.   ]])"
      ]
     },
     "execution_count": 66,
     "metadata": {},
     "output_type": "execute_result"
    }
   ],
   "source": [
    "X"
   ]
  },
  {
   "cell_type": "code",
   "execution_count": 67,
   "metadata": {},
   "outputs": [
    {
     "data": {
      "text/plain": [
       "array([[0.   , 0.025, 0.05 , ..., 0.95 , 0.975, 1.   ],\n",
       "       [0.   , 0.025, 0.05 , ..., 0.95 , 0.975, 1.   ],\n",
       "       [0.   , 0.025, 0.05 , ..., 0.95 , 0.975, 1.   ],\n",
       "       ...,\n",
       "       [0.   , 0.025, 0.05 , ..., 0.95 , 0.975, 1.   ],\n",
       "       [0.   , 0.025, 0.05 , ..., 0.95 , 0.975, 1.   ],\n",
       "       [0.   , 0.025, 0.05 , ..., 0.95 , 0.975, 1.   ]])"
      ]
     },
     "execution_count": 67,
     "metadata": {},
     "output_type": "execute_result"
    }
   ],
   "source": [
    "Y"
   ]
  },
  {
   "cell_type": "code",
   "execution_count": 68,
   "metadata": {},
   "outputs": [
    {
     "data": {
      "text/plain": [
       "array([0.025, 0.025])"
      ]
     },
     "execution_count": 68,
     "metadata": {},
     "output_type": "execute_result"
    }
   ],
   "source": [
    "# select (x,y) coordinates at mesh point (1,1)\n",
    "coordinates[1][1]"
   ]
  },
  {
   "cell_type": "code",
   "execution_count": 69,
   "metadata": {},
   "outputs": [],
   "source": [
    "# time-> scaler, point -> (x,y) coordinate points\n",
    "# this function applies a time decaying force @ (x,y) \n",
    "\n",
    "def forcing_function(time, point):\n",
    "    time_decay = np.maximum(                   # force decays to zero as t-> large\n",
    "        2.0 - 0.5 * time,\n",
    "        0.0,\n",
    "    )\n",
    "\n",
    "    forced_value = (\n",
    "        time_decay                             # force strength (this is a scaler) @ t                   \n",
    "        *\n",
    "        np.where(                              # select specific region (x,y) to apply force \n",
    "            (\n",
    "                (point[0] > 0.4)\n",
    "                &\n",
    "                (point[0] < 0.6)\n",
    "                &\n",
    "                (point[1] > 0.1)\n",
    "                &\n",
    "                (point[1] < 0.3)\n",
    "            ),\n",
    "            np.array([0.0, 1.0]),              # apply the force along y on the selected region \n",
    "            np.array([0.0, 0.0]),\n",
    "        )\n",
    "    )\n",
    "\n",
    "    return forced_value                        # return the force @ point (Fx,Fy)"
   ]
  },
  {
   "cell_type": "code",
   "execution_count": 70,
   "metadata": {},
   "outputs": [],
   "source": [
    "# vectorize the forcing function \n",
    "forcing_function_vectorized = np.vectorize(\n",
    "    pyfunc=forcing_function,\n",
    "    signature=\"(),(d)->(d)\",                   \n",
    ")"
   ]
  },
  {
   "cell_type": "code",
   "execution_count": 71,
   "metadata": {},
   "outputs": [],
   "source": [
    "# partial derivative of field (N,N) along x direction \n",
    "def partial_derivative_x(field):\n",
    "    diff = np.zeros_like(field)\n",
    "\n",
    "    diff[1:-1, 1:-1] = (\n",
    "        (\n",
    "            field[2:  , 1:-1]\n",
    "            -\n",
    "            field[0:-2, 1:-1]\n",
    "        ) / (\n",
    "            2 * element_length\n",
    "        )\n",
    "    )\n",
    "\n",
    "    return diff"
   ]
  },
  {
   "cell_type": "code",
   "execution_count": 72,
   "metadata": {},
   "outputs": [],
   "source": [
    "# partial derivative of field (N,N) along y direction \n",
    "def partial_derivative_y(field):\n",
    "        diff = np.zeros_like(field)\n",
    "\n",
    "        diff[1:-1, 1:-1] = (\n",
    "            (\n",
    "                field[1:-1, 2:  ]\n",
    "                -\n",
    "                field[1:-1, 0:-2]\n",
    "            ) / (\n",
    "                2 * element_length\n",
    "            )\n",
    "        )\n",
    "\n",
    "        return diff"
   ]
  },
  {
   "cell_type": "code",
   "execution_count": 73,
   "metadata": {},
   "outputs": [],
   "source": [
    "# laplacian (del^2) of a field (N,N)\n",
    "def laplace(field):\n",
    "        diff = np.zeros_like(field)\n",
    "\n",
    "        diff[1:-1, 1:-1] = (\n",
    "            (\n",
    "                field[0:-2, 1:-1]\n",
    "                +\n",
    "                field[1:-1, 0:-2]\n",
    "                - 4 *\n",
    "                field[1:-1, 1:-1]\n",
    "                +\n",
    "                field[2:  , 1:-1]\n",
    "                +\n",
    "                field[1:-1, 2:  ]\n",
    "            ) / (\n",
    "                element_length**2\n",
    "            )\n",
    "        )\n",
    "\n",
    "        return diff"
   ]
  },
  {
   "cell_type": "code",
   "execution_count": 74,
   "metadata": {},
   "outputs": [],
   "source": [
    "# apply divergence (del.dot) on a vector field (N,N,2)\n",
    "def divergence(vector_field):\n",
    "    divergence_applied = (\n",
    "        partial_derivative_x(vector_field[..., 0])\n",
    "        +\n",
    "        partial_derivative_y(vector_field[..., 1])\n",
    "    )\n",
    "\n",
    "    return divergence_applied"
   ]
  },
  {
   "cell_type": "code",
   "execution_count": 75,
   "metadata": {},
   "outputs": [],
   "source": [
    "# apply the gradient (del) on field (N,N)\n",
    "def gradient(field):\n",
    "    gradient_applied = np.concatenate(\n",
    "        (\n",
    "            partial_derivative_x(field)[..., np.newaxis],\n",
    "            partial_derivative_y(field)[..., np.newaxis],\n",
    "        ),\n",
    "        axis=-1,\n",
    "    )\n",
    "\n",
    "    return gradient_applied"
   ]
  },
  {
   "cell_type": "code",
   "execution_count": 76,
   "metadata": {},
   "outputs": [],
   "source": [
    "# apply curl (del cross) on vector field (N,N,2), Note: this only return the z component of curl \n",
    "def curl_2d(vector_field):\n",
    "    curl_applied = (\n",
    "        partial_derivative_x(vector_field[..., 1])\n",
    "        -\n",
    "        partial_derivative_y(vector_field[..., 0])\n",
    "    )\n",
    "\n",
    "    return curl_applied"
   ]
  },
  {
   "cell_type": "code",
   "execution_count": 77,
   "metadata": {},
   "outputs": [],
   "source": [
    "# set the value at the current location to be the value at the position backtraced on the streamline.\n",
    "\n",
    "def advect(field, vector_field):\n",
    "    backtraced_positions = np.clip(                 # go backward in coordinates along the field \n",
    "        (\n",
    "            coordinates\n",
    "            -\n",
    "            TIME_STEP_LENGTH\n",
    "            *\n",
    "            vector_field\n",
    "        ),  \n",
    "        0.0,                                        # implement non-negative backtraced points \n",
    "        DOMAIN_SIZE,                                # make-sure the backward steps are not going beyond the domain \n",
    "    )\n",
    "\n",
    "    advected_field = interpolate.interpn(\n",
    "        points=(x, y),                              # points define the grid \n",
    "        values=field,                               # data on the grid \n",
    "        xi=backtraced_positions,                    # coordintes to sample grided data \n",
    "    )\n",
    "\n",
    "    return advected_field"
   ]
  },
  {
   "cell_type": "code",
   "execution_count": 78,
   "metadata": {},
   "outputs": [],
   "source": [
    "# This function impliment (I − ν Δt ∇²)w, where w is vector field (flattened to solve for linear system of equation later)\n",
    "def diffusion_operator(vector_field_flattened):\n",
    "    vector_field = vector_field_flattened.reshape(vector_shape)\n",
    "\n",
    "    diffusion_applied = (\n",
    "        vector_field\n",
    "        -\n",
    "        KINEMATIC_VISCOSITY\n",
    "        *\n",
    "        TIME_STEP_LENGTH\n",
    "        *\n",
    "        laplace(vector_field)\n",
    "    )\n",
    "\n",
    "    return diffusion_applied.flatten()"
   ]
  },
  {
   "cell_type": "code",
   "execution_count": 79,
   "metadata": {},
   "outputs": [],
   "source": [
    "# this function computed the: ∇² p\n",
    "def poisson_operator(field_flattened):\n",
    "    field = field_flattened.reshape(scalar_shape)\n",
    "\n",
    "    poisson_applied = laplace(field)\n",
    "\n",
    "    return poisson_applied.flatten()"
   ]
  },
  {
   "cell_type": "code",
   "execution_count": null,
   "metadata": {},
   "outputs": [],
   "source": []
  }
 ],
 "metadata": {
  "kernelspec": {
   "display_name": "base",
   "language": "python",
   "name": "python3"
  },
  "language_info": {
   "codemirror_mode": {
    "name": "ipython",
    "version": 3
   },
   "file_extension": ".py",
   "mimetype": "text/x-python",
   "name": "python",
   "nbconvert_exporter": "python",
   "pygments_lexer": "ipython3",
   "version": "3.9.13"
  }
 },
 "nbformat": 4,
 "nbformat_minor": 2
}
