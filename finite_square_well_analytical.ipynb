{
 "cells": [
  {
   "cell_type": "markdown",
   "metadata": {},
   "source": [
    "###  Finite square well analytical solution "
   ]
  },
  {
   "cell_type": "markdown",
   "metadata": {},
   "source": [
    "The Hamiltonian $H = -\\frac{\\hbar^2}{2m}\\frac{d^2}{dx^2} + V(x)$ can first be be used to write the Schrodinger equation $H\\psi = E\\psi$ as \n",
    "\n",
    "$$\\left(-\\frac{\\hbar^2}{2m}\\frac{d^2}{dx^2} +V(x) \\right)\\psi(x) = E \\psi(x)$$\n",
    "\n",
    "We can rewrite this as\n",
    "\n",
    "$$\\left(-\\frac{d^2}{dx'^2} +\\frac{2ma^2}{\\hbar^2}V(x') \\right)\\psi(x') = \\frac{2ma^2}{\\hbar^2}E \\psi(x')$$\n",
    "\n",
    "where $x'=x/a$. Now the well goes from -1 to 1 as opposed to $-a$ to $a$. We can then define $V'= \\frac{2ma^2}{\\hbar^2}V$ and $E'=\\frac{2ma^2}{\\hbar^2}E$ to make the problem simpler:\n",
    "\n",
    "\n",
    "$${\\left(-\\frac{d^2}{dx'^2} + V' \\right)\\psi(x') = E' \\psi(x')}$$\n",
    "\n",
    "    \n",
    "But we still have that pesky $V_0$ to deal with. Noting that $V' = V/(\\frac{\\hbar^2}{2ma^2})$ we have that $V_0=-V_0' \\cdot \\frac{\\hbar^2}{2ma^2}$ inside the well. ($V_0'$ is a dimensionless number that tells you how many $\\frac{\\hbar^2}{2ma^2}$s there are in $V_0$). \n",
    "\n",
    "In summary:\n",
    "\n",
    "\n",
    "\n",
    "1. Determine $V'$ inside the well using $V_0' = V_0/(\\frac{\\hbar^2}{2ma^2})$\n",
    "2. Solve the eigenvalue equation above for (dimensionless) energies $E'$; the energies are given by $E=\\frac{\\hbar^2}{2ma^2}E'$\n",
    "3. The obtained eigenfunctions $\\psi(x')$ (where $x'=x/a$ is dimenionless) can be used to find the true eigenfunctions using the scale transformation $\\psi(ax') = \\psi(x)$\n",
    "    \n",
    "\n",
    "\n",
    "**For notational simplification, we will now drop all the primes, but remember that the 3 steps above need to be followed.**\n",
    "\n",
    "Suppose we only care about bound energies where $-V_0<E<0$. As such, for example, $\\sqrt{-E}$ is real. \n",
    "\n",
    " **Inside**:</span> $\\left(-\\frac{d^2}{dx^2} -V_0 \\right)\\psi = E \\psi \\hspace{10mm} \\implies \\hspace{20mm}$ $\\boxed{\\frac{d^2\\psi}{dx^2} = -k^2 \\psi} \\hspace{10mm} \\text{where} \\hspace{10mm} k=\\sqrt{E+V_0}$\n",
    "\n",
    "**Outside**:</span> $\\left(-\\frac{d^2}{dx^2}\\right)\\psi = E \\psi \\hspace{10mm} \\implies \\hspace{20mm} $ $\\boxed{\\frac{d^2\\psi}{dx^2} = l^2 \\psi} \\hspace{10mm} \\text{where} \\hspace{10mm} l=\\sqrt{-E}$ \n",
    "\n",
    "Since the Hamiltonian is symmetric in $x$, the solutions are either even functions or odd functions (this is a quantum fact that you can prove). The solutions are thus\n",
    "\n",
    "$$\\psi_{\\text{even}}(x) = \\begin{cases}Ae^{lx}&x<-1\\\\ D\\cos(kx)&-1\\leq x \\leq 1\\\\ Ae^{-lx}&x>1  \\end{cases}$$\n",
    "\n",
    "$$\\psi_{\\text{odd}}(x) = \\begin{cases}Ae^{lx}&x<-1\\\\ C\\sin(kx)&-1\\leq x \\leq 1\\\\ Ae^{-lx}&x>1  \\end{cases}$$\n",
    "\n",
    "The boundary conditions are that $\\psi$ and $d\\psi/dx$ are continuous at the boundaries $-1$ and $1$.\n",
    "\n",
    "**Even**: $D\\cos(k) = Ae^{-l}$ and $-kD\\sin(k) = -lAe^{-l}$. Dividing these yields $k\\tan(k) = l$ and thus\n",
    "\n",
    "<span style=\"color: red;\">$$\\boxed{\\sqrt{E+V_0}\\tan(\\sqrt{E+V_0}) = \\sqrt{-E}}$$</span>\n",
    "\n",
    "**Odd**: $C\\sin(k) = Ae^{-l}$ and $kC\\cos(k) = -lAe^{-l}$. Dividing these yields $k\\cot(k) = -l$ and thus\n",
    "\n",
    "<span style=\"color: red;\">$$\\boxed{-\\sqrt{E+V_0}\\cot(\\sqrt{E+V_0}) = \\sqrt{-E}}$$</span>"
   ]
  },
  {
   "cell_type": "code",
   "execution_count": 31,
   "metadata": {},
   "outputs": [],
   "source": [
    "import numpy as np\n",
    "import matplotlib.pyplot as plt\n"
   ]
  },
  {
   "cell_type": "code",
   "execution_count": 32,
   "metadata": {},
   "outputs": [],
   "source": [
    "# computing energies \n",
    "\n",
    "v0 = 36\n",
    "E = np.linspace(-v0,0,100000)"
   ]
  },
  {
   "cell_type": "code",
   "execution_count": 33,
   "metadata": {},
   "outputs": [
    {
     "data": {
      "text/plain": [
       "Text(0.5, 0, '$E$')"
      ]
     },
     "execution_count": 33,
     "metadata": {},
     "output_type": "execute_result"
    },
    {
     "data": {
      "image/png": "[encoded data removed]",
      "text/plain": [
       "<Figure size 600x500 with 1 Axes>"
      ]
     },
     "metadata": {},
     "output_type": "display_data"
    }
   ],
   "source": [
    "# get the left and right hand sides of the above two (boxed) equations \n",
    "RHS = np.sqrt(-E)                                  # RHS \n",
    "LHS1 = np.sqrt(E+v0) * np.tan(np.sqrt(E+v0))       # LHS of first equation \n",
    "LHS2 = -np.sqrt(E+v0)/np.tan(np.sqrt(E+v0+1e-9))   # LHS of the second eq. (we added small number to prevent 1/0 values)\n",
    "\n",
    "# plot the curves defined above as a fucntion of E \n",
    "plt.figure(figsize=(6,5))\n",
    "plt.scatter(E, LHS1, s=1, color='blue')\n",
    "plt.scatter(E, LHS2, s=1, color='blue')\n",
    "plt.scatter(E, RHS, s=1, color='red')\n",
    "plt.ylim(-10,10)\n",
    "plt.grid(color='grey')\n",
    "plt.xlabel('$E$')\n"
   ]
  },
  {
   "cell_type": "code",
   "execution_count": 40,
   "metadata": {},
   "outputs": [],
   "source": [
    "# re -defining the equations to get the RHS = 0 \n",
    "# then we need to find the zero crossing of both odd and even functions \n",
    "\n",
    "def f1(E, V0):              # even solutions \n",
    "    return np.sqrt(E+V0)*np.tan(np.sqrt(E+V0)) - np.sqrt(-E)\n",
    "def f2(E, V0, eps=1e-10):   # odd solutions \n",
    "    return np.sqrt(E+V0+eps)/np.tan(np.sqrt(E+V0+eps)) + np.sqrt(-E)\n"
   ]
  },
  {
   "cell_type": "code",
   "execution_count": 48,
   "metadata": {},
   "outputs": [
    {
     "data": {
      "text/plain": [
       "Text(0.5, 0, '$E$')"
      ]
     },
     "execution_count": 48,
     "metadata": {},
     "output_type": "execute_result"
    },
    {
     "data": {
      "image/png": "[encoded data removed]",
      "text/plain": [
       "<Figure size 600x500 with 1 Axes>"
      ]
     },
     "metadata": {},
     "output_type": "display_data"
    }
   ],
   "source": [
    "# plot f1 and f2 as a function of E (the zero crossings will be the solutions)\n",
    "plt.figure(figsize=(6,5))\n",
    "plt.scatter(E,f1(E,v0), s=1, color='blue')\n",
    "plt.scatter(E,f2(E,v0), s=1, color='green')\n",
    "plt.axhline(y=0,c='r')\n",
    "plt.grid(color='grey')\n",
    "plt.ylim(-10,10)\n",
    "plt.xlabel('$E$')"
   ]
  },
  {
   "cell_type": "markdown",
   "metadata": {},
   "source": [
    "* In the above plot you can graphically see that there are 4 zero -crossings and hence 4 bound state energies \n",
    "\n",
    "* Note that the way we find them is by multiplying two consecutive numbers in each array, and if the multiplication is < 0 this indicate that there is zero crossing\n",
    "\n",
    "* However we wan't to avoid the the situations where the function going to $ + \\infty $ and coming back from $- \\infty$"
   ]
  },
  {
   "cell_type": "code",
   "execution_count": 52,
   "metadata": {},
   "outputs": [],
   "source": [
    "# let's find the zero-crossing energies \n",
    "\n",
    "f1s = f1(E,v0)\n",
    "f2s = f2(E,v0)\n",
    "\n",
    "zero_crossing_even = E[np.where((f1s[:-1]*f1s[1:] <0)*(np.abs(f1s[:-1])<1))[0]]\n",
    "zero_crossing_odd  = E[np.where((f2s[:-1]*f2s[1:] <0)*(np.abs(f2s[:-1])<1))[0]]\n",
    "all_zero_crossing = np.sort(np.concatenate([zero_crossing_even,zero_crossing_odd]))"
   ]
  },
  {
   "cell_type": "code",
   "execution_count": 53,
   "metadata": {},
   "outputs": [
    {
     "data": {
      "text/plain": [
       "array([-34.19170192, -28.82440824, -20.11340113,  -8.68940689])"
      ]
     },
     "execution_count": 53,
     "metadata": {},
     "output_type": "execute_result"
    }
   ],
   "source": [
    "all_zero_crossing"
   ]
  }
 ],
 "metadata": {
  "kernelspec": {
   "display_name": "base",
   "language": "python",
   "name": "python3"
  },
  "language_info": {
   "codemirror_mode": {
    "name": "ipython",
    "version": 3
   },
   "file_extension": ".py",
   "mimetype": "text/x-python",
   "name": "python",
   "nbconvert_exporter": "python",
   "pygments_lexer": "ipython3",
   "version": "3.9.13"
  }
 },
 "nbformat": 4,
 "nbformat_minor": 2
}
