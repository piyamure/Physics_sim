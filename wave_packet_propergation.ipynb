{
 "cells": [
  {
   "cell_type": "code",
   "execution_count": 44,
   "metadata": {},
   "outputs": [],
   "source": [
    "import numpy as np\n",
    "import sympy as smp\n",
    "from sympy.functions import conjugate\n",
    "from scipy.integrate import nquad\n",
    "import matplotlib.pyplot as plt\n"
   ]
  },
  {
   "cell_type": "markdown",
   "metadata": {},
   "source": [
    "An electron is initially prepared in a quantum mechanical state with zero average momentum and a\n",
    "wavefunction given by\n",
    "\n",
    "$$\\psi(x, t=0) \\propto e^{-x^2 / 2a^2}$$\n",
    "\n",
    "The potential everywhere is zero. A detector is positioned at distance $x = L$ from the electron’s initial position.\n",
    "\n",
    "1. After approximately how long is the electron likely to have passed the detector?\n",
    "2. Find the probability of observing the electron past $x = L$ as a function of time.\n"
   ]
  },
  {
   "cell_type": "markdown",
   "metadata": {},
   "source": [
    "## Part 1: approximate solution to the problem"
   ]
  },
  {
   "cell_type": "markdown",
   "metadata": {},
   "source": [
    "We can obtain an estimate by computing $\\left<p^2\\right>$ from the wavefunction and then using the classical estimation $p = mv = mL/t$ where $t$ is the time to get to the detector. This gives\n",
    "\n",
    "$$t = \\frac{mL}{\\sqrt{\\left<p^2\\right>}}$$\n",
    "\n",
    "(Of course, since the particle starts with zero average momentum, it can only have at most a 50% chance of passing the detector). We just need to compute $\\left< p^2 \\right>$, given by\n",
    "\n",
    "$$\\left< p^2 \\right> = \\int_x dx \\psi \\hat{p}^2 \\psi = \\int_{-\\infty}^{\\infty} \\psi \\left(-\\frac{d^2}{dx^2} \\psi\\right) dx$$"
   ]
  },
  {
   "cell_type": "code",
   "execution_count": 45,
   "metadata": {},
   "outputs": [],
   "source": [
    "x = smp.symbols('x',real=True)\n",
    "a,L,m,k,kp,t = smp.symbols('a L m k k_p t',real=True,positive=True)"
   ]
  },
  {
   "cell_type": "code",
   "execution_count": 46,
   "metadata": {},
   "outputs": [],
   "source": [
    "# define the wave function and normalize it \n",
    "psi = smp.exp(-x**2/(2*a**2))\n",
    "psi = smp.exp(-x**2/(2*a**2))/smp.sqrt(smp.integrate(psi**2,(x,-smp.oo,smp.oo)))"
   ]
  },
  {
   "cell_type": "code",
   "execution_count": 47,
   "metadata": {},
   "outputs": [
    {
     "data": {
      "text/latex": [
       "$\\displaystyle \\frac{e^{- \\frac{x^{2}}{2 a^{2}}}}{\\sqrt[4]{\\pi} \\sqrt{a}}$"
      ],
      "text/plain": [
       "exp(-x**2/(2*a**2))/(pi**(1/4)*sqrt(a))"
      ]
     },
     "execution_count": 47,
     "metadata": {},
     "output_type": "execute_result"
    }
   ],
   "source": [
    "psi"
   ]
  },
  {
   "cell_type": "code",
   "execution_count": 48,
   "metadata": {},
   "outputs": [
    {
     "data": {
      "text/latex": [
       "$\\displaystyle \\frac{1}{2 a^{2}}$"
      ],
      "text/plain": [
       "1/(2*a**2)"
      ]
     },
     "execution_count": 48,
     "metadata": {},
     "output_type": "execute_result"
    }
   ],
   "source": [
    "# let's compute the expectation value of <p^2>\n",
    "\n",
    "p2 = smp.integrate(psi*(-smp.diff(psi,(x,2))),(x,-smp.oo,smp.oo))\n",
    "p2"
   ]
  },
  {
   "cell_type": "code",
   "execution_count": 49,
   "metadata": {},
   "outputs": [
    {
     "data": {
      "text/latex": [
       "$\\displaystyle \\sqrt{2} L a m$"
      ],
      "text/plain": [
       "sqrt(2)*L*a*m"
      ]
     },
     "execution_count": 49,
     "metadata": {},
     "output_type": "execute_result"
    }
   ],
   "source": [
    "# the time to reach detector \n",
    "\n",
    "T = m *L/smp.sqrt(p2)\n",
    "T"
   ]
  },
  {
   "cell_type": "markdown",
   "metadata": {},
   "source": [
    "## Part2, using the time dependent wave function"
   ]
  },
  {
   "cell_type": "markdown",
   "metadata": {},
   "source": [
    "Above was simply an approximation. The wavefunction changes in time according to the Schrodinger Equation, which, in the position basis is given by:\n",
    "\n",
    "$$i \\frac{\\partial}{\\partial t} \\psi(x,t) = H \\psi(x,t)$$\n",
    "\n",
    "where $H = -\\frac{1}{2m}\\frac{d^2}{dx^2}$ is the Hamiltonian linear operator for a particle in free space. The general solution to this equation is given by\n",
    "\n",
    "$$\\psi(x,t) = e^{i H t} \\psi(x,t=0)$$\n",
    "\n",
    "where $e^{A} \\equiv \\sum_{n=0}^{\\infty} \\frac{A^n}{n!}$. Since we know $\\psi(x,t=0)$ and we know $H$, we essentially have the solution! It's just not in a convenient form. If we can express $\\psi(x,t=0)$ in terms of the eigenstates of $H$ as $\\psi(x,0) = \\int_E dE c(E) \\psi_E(x)$, then the solution is \n",
    "\n",
    "$$\\begin{align} \n",
    "\\psi(x,t) &= e^{i H t} \\psi(x,t=0)\\\\\n",
    "&= e^{i H t} \\int_E dE c(E) \\psi_E(x)\\\\ \n",
    "&= \\int_E dE c(E) e^{i E t} \\psi_E(x)\\\\\n",
    "\\end{align}$$\n",
    "\n",
    "For this we need the eigenvalues and eigenstates of $H$. For this, we use $H = -\\frac{1}{2m}\\frac{d^2}{dx^2}$ and search for eigenstates:\n",
    "\n",
    "$$\\begin{align} \n",
    "H\\psi &= E\\psi\\\\\n",
    "-\\frac{1}{2m}\\frac{d^2}{dx^2} \\psi &= E\\psi\\\\\n",
    "\\frac{d^2}{dx^2} \\psi &= -2mE \\cdot \\psi\\\\\n",
    "\\end{align}$$\n",
    "\n",
    "Our characteristic length scale of the problem is $a$, so multiplying this equaiton by $a$ and redefining $x$ such that $x\\to x/a$, we get\n",
    "\n",
    "$$\\frac{d^2}{dx^2} \\psi = -2mE a^2 \\cdot \\psi$$\n",
    "\n",
    "We know that $E>0$ (free particle); thus $2mE a^2>0$. Thus we can write the equation above as $\\frac{d^2}{dx^2} \\psi = -k^2 \\psi$, which is an equation that has a well known solution: $\\psi_k = e^{i k x}$. Furthermore, this function forms a complete basis when considering all positive and negative values of $k$. Note that $k^2 = 2mE a^2$. We can now write\n",
    "\n",
    "$$\\psi(x,0) = \\int_E dE c(E) \\psi_E(x) = \\int_{-\\infty}^{\\infty} dk c(k) e^{ikx}$$\n",
    "\n",
    "So the $c(k)$'s are just the inverse Fourier transform of $\\psi(x,0)$:\n",
    "\n",
    "$$c(k) = \\frac{1}{2\\pi} \\int_{-\\infty}^{\\infty} \\psi(x,0) e^{-ikx} dx $$\n",
    "\n",
    "We have all the information to find these. First lets redefine $\\psi$ using $x \\to x/a$"
   ]
  },
  {
   "cell_type": "code",
   "execution_count": 50,
   "metadata": {},
   "outputs": [
    {
     "data": {
      "text/latex": [
       "$\\displaystyle \\frac{e^{- \\frac{x^{2}}{2}}}{\\sqrt[4]{\\pi}}$"
      ],
      "text/plain": [
       "exp(-x**2/2)/pi**(1/4)"
      ]
     },
     "execution_count": 50,
     "metadata": {},
     "output_type": "execute_result"
    }
   ],
   "source": [
    "# deine the normalized wave function \n",
    "psi = smp.exp(-x**2/(2))\n",
    "psi = psi/ (smp.sqrt(smp.integrate(psi**2,(x,-smp.oo,smp.oo))))\n",
    "psi"
   ]
  },
  {
   "cell_type": "code",
   "execution_count": 51,
   "metadata": {},
   "outputs": [],
   "source": [
    "# define psi_k and c_k \n",
    "psi_k = smp.exp(smp.I*k*x)\n",
    "c_k = 1/(2*smp.pi) * smp.integrate(psi*psi_k.conjugate(),(x,-smp.oo,smp.oo)).simplify()"
   ]
  },
  {
   "cell_type": "code",
   "execution_count": 52,
   "metadata": {},
   "outputs": [
    {
     "data": {
      "text/latex": [
       "$\\displaystyle \\frac{e^{- \\frac{x^{2}}{2}}}{\\sqrt[4]{\\pi}}$"
      ],
      "text/plain": [
       "exp(-x**2/2)/pi**(1/4)"
      ]
     },
     "execution_count": 52,
     "metadata": {},
     "output_type": "execute_result"
    }
   ],
   "source": [
    "# let's see we an get the orginal wave function back \n",
    "smp.integrate(c_k*psi_k,(k,-smp.oo,smp.oo)).simplify()\n"
   ]
  },
  {
   "cell_type": "markdown",
   "metadata": {},
   "source": [
    "Now we have all the information and can express our wave function as \n",
    "\n",
    "$$\\psi(x,t) = \\int_E dE c(E) e^{i E t} \\psi_E(x) = \\int_{-\\infty}^{\\infty} dk c(k) e^{i k^2 t / 2m} \\psi_k(x)$$\n",
    "\n",
    "In principle, we can compute this integral numerically as we have access to all this information. Now for the task at hand. What's the probabilty of the particle being found beyond $x=L$ as a function of time? This is simply\n",
    "\n",
    "$$\\begin{align}p(t) &= \\int_{L}^{\\infty} |\\psi(x,t)|^2 dx\\\\\n",
    "&= \\frac{1}{2}\\left(1 - \\int_{-L}^{L} |\\psi(x,t)|^2 dx\\right) \n",
    "\\end{align}$$\n",
    "\n",
    "We just need to solve that integral, which can be expanded as\n",
    "\n",
    "$$\\int_{-L}^{L} |\\psi(x,t)|^2 dx = \\int_{-L}^{L} \\int_{-\\infty}^{\\infty} \\int_{-\\infty}^{\\infty} dx dk dk' c(k) e^{i k^2 t/2m} \\psi_k(x) c^{*}(k') e^{-i k'^2 t/2m} \\psi^{*}_k(x)$$\n",
    "\n",
    "If you try to evaluate this triple integral on a computer, it might take a very long time. We should always look for ways to simplify mathematical expressions analytically before plugging them into a computer. In this case, we can simplify this expression. Note that $\\psi_k(x) = e^{ikx}$, so integration over $x$ is easy to do\n",
    "\n",
    "$$\\int_{-L}^{L} \\int_{-\\infty}^{\\infty} \\int_{-\\infty}^{\\infty} dx dk dk' c(k) e^{i k^2 t/2m} \\psi_k(x) c^{*}(k') e^{-i k'^2 t/2m} \\psi^{*}_k(x) = \\int_{-\\infty}^{\\infty} \\int_{-\\infty}^{\\infty} dk dk' \\left(\\int_{-L}^{L} e^{i(k-k')x} dx \\right) c(k) c^{*}(k')e^{i (k^2-k'^2) t/2m} $$\n",
    "\n"
   ]
  },
  {
   "cell_type": "code",
   "execution_count": 53,
   "metadata": {},
   "outputs": [],
   "source": [
    "c_kp_c = c_k.subs(k,kp).conjugate()\n",
    "psi_kp_c = psi_k.subs(k,kp).conjugate()"
   ]
  },
  {
   "cell_type": "code",
   "execution_count": 54,
   "metadata": {},
   "outputs": [
    {
     "data": {
      "text/latex": [
       "$\\displaystyle \\frac{\\sqrt{2} e^{- \\frac{k_{p}^{2}}{2}}}{2 \\pi^{\\frac{3}{4}}}$"
      ],
      "text/plain": [
       "sqrt(2)*exp(-k_p**2/2)/(2*pi**(3/4))"
      ]
     },
     "execution_count": 54,
     "metadata": {},
     "output_type": "execute_result"
    }
   ],
   "source": [
    "c_kp_c\n"
   ]
  },
  {
   "cell_type": "code",
   "execution_count": 55,
   "metadata": {},
   "outputs": [
    {
     "data": {
      "text/latex": [
       "$\\displaystyle e^{- i k_{p} x}$"
      ],
      "text/plain": [
       "exp(-I*k_p*x)"
      ]
     },
     "execution_count": 55,
     "metadata": {},
     "output_type": "execute_result"
    }
   ],
   "source": [
    "psi_kp_c"
   ]
  },
  {
   "cell_type": "code",
   "execution_count": 56,
   "metadata": {},
   "outputs": [],
   "source": [
    "# let's do the spatial integral part first \n",
    "r = smp.integrate(psi_k*psi_kp_c,(x,-L,L))\n",
    "r = r.rewrite(smp.sin).simplify().rewrite(smp.sinc).simplify()"
   ]
  },
  {
   "cell_type": "code",
   "execution_count": 57,
   "metadata": {},
   "outputs": [
    {
     "data": {
      "text/latex": [
       "$\\displaystyle 2 L \\operatorname{sinc}{\\left(L \\left(k - k_{p}\\right) \\right)}$"
      ],
      "text/plain": [
       "2*L*sinc(L*(k - k_p))"
      ]
     },
     "execution_count": 57,
     "metadata": {},
     "output_type": "execute_result"
    }
   ],
   "source": [
    "r"
   ]
  },
  {
   "cell_type": "code",
   "execution_count": 58,
   "metadata": {},
   "outputs": [
    {
     "data": {
      "text/latex": [
       "$\\displaystyle \\frac{L e^{\\frac{- k^{2} m - k_{p}^{2} m + i t \\left(k^{2} - k_{p}^{2}\\right)}{2 m}} \\operatorname{sinc}{\\left(L \\left(k - k_{p}\\right) \\right)}}{\\pi^{\\frac{3}{2}}}$"
      ],
      "text/plain": [
       "L*exp((-k**2*m - k_p**2*m + I*t*(k**2 - k_p**2))/(2*m))*sinc(L*(k - k_p))/pi**(3/2)"
      ]
     },
     "execution_count": 58,
     "metadata": {},
     "output_type": "execute_result"
    }
   ],
   "source": [
    "integrand = c_k*c_kp_c * r *smp.exp(smp.I*(k**2-kp**2)*t / (2*m))\n",
    "integrand = integrand.simplify()\n",
    "integrand"
   ]
  },
  {
   "cell_type": "code",
   "execution_count": 59,
   "metadata": {},
   "outputs": [
    {
     "data": {
      "text/latex": [
       "$\\displaystyle \\frac{L e^{- \\frac{k^{2}}{2} - \\frac{k_{p}^{2}}{2}} \\cos{\\left(\\frac{k^{2} t}{2 m} - \\frac{k_{p}^{2} t}{2 m} \\right)} \\operatorname{sinc}{\\left(L \\left(k - k_{p}\\right) \\right)}}{\\pi^{\\frac{3}{2}}}$"
      ],
      "text/plain": [
       "L*exp(-k**2/2 - k_p**2/2)*cos(k**2*t/(2*m) - k_p**2*t/(2*m))*sinc(L*(k - k_p))/pi**(3/2)"
      ]
     },
     "execution_count": 59,
     "metadata": {},
     "output_type": "execute_result"
    }
   ],
   "source": [
    "# take only the real part (the imaginary part vanishes as we integrate)\n",
    "integrand = smp.re(integrand)\n",
    "integrand"
   ]
  },
  {
   "cell_type": "code",
   "execution_count": 60,
   "metadata": {},
   "outputs": [],
   "source": [
    "integrand_f = smp.lambdify((k,kp,L,m,t),integrand)"
   ]
  },
  {
   "cell_type": "code",
   "execution_count": 74,
   "metadata": {},
   "outputs": [
    {
     "data": {
      "text/plain": [
       "<matplotlib.collections.QuadMesh at 0x7f5b0c0634f0>"
      ]
     },
     "execution_count": 74,
     "metadata": {},
     "output_type": "execute_result"
    },
    {
     "data": {
      "image/png": "[encoded data removed]",
      "text/plain": [
       "<Figure size 600x600 with 1 Axes>"
      ]
     },
     "metadata": {},
     "output_type": "display_data"
    }
   ],
   "source": [
    "L = 1\n",
    "m =1 \n",
    "t = 20\n",
    "\n",
    "k_grid,kp_grid = np.meshgrid(*2*[np.linspace(-10,10,1000)])\n",
    "p = integrand_f(k_grid,kp_grid,L,m,t)\n",
    "plt.figure(figsize=(6,6))\n",
    "plt.pcolormesh(k_grid,kp_grid,p) \n",
    "# as you can see k is non -zero in a small range of k values (so we don't have to integrate from -inf,+inf)"
   ]
  },
  {
   "cell_type": "markdown",
   "metadata": {},
   "source": [
    "This function computes the probability, by double integraing over the integrand function above. A few notes:\n",
    "\n",
    "* In the integrand $t/m$ always shows up together. Therefore we can set $m=1$ when evaluating the probability numerically, and we get the proability as a function of $t/m$."
   ]
  },
  {
   "cell_type": "code",
   "execution_count": 75,
   "metadata": {},
   "outputs": [],
   "source": [
    "def compute_prob(t,L,lim=np.inf):\n",
    "    return 0.5 * (1 - nquad(integrand_f,ranges=[[-lim,lim],[-lim,lim]],args=(L,m,t),opts={'limit':100})[0])"
   ]
  },
  {
   "cell_type": "code",
   "execution_count": 76,
   "metadata": {},
   "outputs": [],
   "source": [
    "t = [0,1,2,3,5,8,11,15,20,30]\n",
    "p = np.vectorize(compute_prob)(t, 5, lim=5)"
   ]
  },
  {
   "cell_type": "markdown",
   "metadata": {},
   "source": [
    "Initially we found $t=\\sqrt{2}Lam$, so lets add a line $t/m = \\sqrt{2}L$"
   ]
  },
  {
   "cell_type": "code",
   "execution_count": 77,
   "metadata": {},
   "outputs": [
    {
     "data": {
      "image/png": "[encoded data removed]",
      "text/plain": [
       "<Figure size 640x480 with 1 Axes>"
      ]
     },
     "metadata": {},
     "output_type": "display_data"
    }
   ],
   "source": [
    "# plot \n",
    "\n",
    "plt.plot(t,p, 'ko--')\n",
    "plt.axvline(5*np.sqrt(2))\n",
    "plt.title('Probability of Observation Beyond $x=5a$')\n",
    "plt.ylabel('Probability')\n",
    "plt.xlabel('$t/m$')\n",
    "plt.show()"
   ]
  },
  {
   "cell_type": "code",
   "execution_count": null,
   "metadata": {},
   "outputs": [],
   "source": []
  }
 ],
 "metadata": {
  "kernelspec": {
   "display_name": "base",
   "language": "python",
   "name": "python3"
  },
  "language_info": {
   "codemirror_mode": {
    "name": "ipython",
    "version": 3
   },
   "file_extension": ".py",
   "mimetype": "text/x-python",
   "name": "python",
   "nbconvert_exporter": "python",
   "pygments_lexer": "ipython3",
   "version": "3.9.13"
  }
 },
 "nbformat": 4,
 "nbformat_minor": 2
}
